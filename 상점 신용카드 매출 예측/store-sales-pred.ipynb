{
 "cells": [
  {
   "cell_type": "markdown",
   "metadata": {},
   "source": [
    "# 펀다 상점매출예측 모델링 경진대회\n",
    "\n",
    "### 🧩특징  \n",
    "안녕하세요 여러분!🙌 상점 신용카드 매출 예측 경진대회에 오신 것을 환영합니다.  \n",
    "핀테크 기업인 ‘FUNDA(펀다)’는 상환 기간의 매출을 예측하여 신용 점수가 낮거나 담보를 가지지 못하는 우수 상점들에 금융 기회를 제공하려 합니다.  \n",
    "이번 대회에서는 2년 전 부터 2019년 2월 28일까지의 카드 거래 데이터를 이용해 2019-03-01부터 2019-05-31까지의 각 상점별 3개월 총 매출을 예측하는 것입니다.  \n",
    "\n",
    "\n",
    "</br>\n",
    "\n",
    "### 🚣‍♂️목적 \n",
    "우수 상점 금융 기회 제공을 위한 상점별 총 매출 예측  \n",
    "\n",
    "</br>\n",
    "\n",
    "### 📔코드북\n",
    "funda_train.csv  \n",
    "* `store_id`: 상점의 고유 아이디  \n",
    "* `card_id`: 사용한 카드의 고유 아이디  \n",
    "* `card_company`: 비식별화된 카드 회사  \n",
    "* `trasacted_date`: 거래 날짜  \n",
    "* `transacted_time`: 거래 시간(시:분)  \n",
    "* `installment_term`: 할부 개월 수(포인트 사용 시 (60개월 + 실제할부개월)을 할부개월수에 기재한다.)  \n",
    "* `region`: 상점의 지역  \n",
    "* `type_of_business`: 상점의 업종  \n",
    "* `amount`: 거래액(단위는 원이 아닙니다)  \n",
    "\n",
    "submission.csv  \n",
    "* `store_id`: 상점의 고유 아이디\n",
    "* `amount`: 사용자들은 상점별로 2019-03-01부터 2019-05-31까지의 총 매출을 예측하여 기입\n",
    "\n",
    "[출처] <a href=\"https://dacon.io/competitions/official/140472/overview/description\">상점 신용카드 매출 예측 경진대회</a>"
   ]
  },
  {
   "cell_type": "markdown",
   "metadata": {},
   "source": [
    "## Step 1. 필요한 패키지와 데이터셋 불러오기"
   ]
  },
  {
   "cell_type": "code",
   "execution_count": 1,
   "metadata": {},
   "outputs": [],
   "source": [
    "import warnings\n",
    "warnings.filterwarnings('ignore')"
   ]
  },
  {
   "cell_type": "code",
   "execution_count": 15,
   "metadata": {},
   "outputs": [],
   "source": [
    "import pandas as pd\n",
    "import numpy as np\n",
    "import seaborn as sns\n",
    "import matplotlib\n",
    "import matplotlib.pyplot as plt\n",
    "import pmdarima as pm\n",
    "import pmdarima\n",
    "import statsmodels\n",
    "import rpy2\n",
    "import rpy2.robjects as robjects  ##R 함수를 쓰기위함\n",
    "from tqdm import tqdm\n",
    "from rpy2.robjects import pandas2ri ##pandas를 R 데이터로 형식으로 변환하기 위함\n",
    "from rpy2.robjects.packages import importr #R 패키지를 import\n",
    "from pmdarima.arima.stationarity import ADFTest #단위근검정 ADF_TEST\n",
    "from statsmodels.graphics.tsaplots import plot_acf, plot_pacf #AR값을 정하기위한 acf,pcaf\n",
    "import warnings"
   ]
  },
  {
   "cell_type": "code",
   "execution_count": 16,
   "metadata": {},
   "outputs": [
    {
     "data": {
      "text/html": [
       "<div>\n",
       "<style scoped>\n",
       "    .dataframe tbody tr th:only-of-type {\n",
       "        vertical-align: middle;\n",
       "    }\n",
       "\n",
       "    .dataframe tbody tr th {\n",
       "        vertical-align: top;\n",
       "    }\n",
       "\n",
       "    .dataframe thead th {\n",
       "        text-align: right;\n",
       "    }\n",
       "</style>\n",
       "<table border=\"1\" class=\"dataframe\">\n",
       "  <thead>\n",
       "    <tr style=\"text-align: right;\">\n",
       "      <th></th>\n",
       "      <th>store_id</th>\n",
       "      <th>card_id</th>\n",
       "      <th>card_company</th>\n",
       "      <th>transacted_date</th>\n",
       "      <th>transacted_time</th>\n",
       "      <th>installment_term</th>\n",
       "      <th>region</th>\n",
       "      <th>type_of_business</th>\n",
       "      <th>amount</th>\n",
       "    </tr>\n",
       "  </thead>\n",
       "  <tbody>\n",
       "    <tr>\n",
       "      <th>0</th>\n",
       "      <td>0</td>\n",
       "      <td>0</td>\n",
       "      <td>b</td>\n",
       "      <td>2016-06-01</td>\n",
       "      <td>13:13</td>\n",
       "      <td>0</td>\n",
       "      <td>NaN</td>\n",
       "      <td>기타 미용업</td>\n",
       "      <td>1857.142857</td>\n",
       "    </tr>\n",
       "    <tr>\n",
       "      <th>1</th>\n",
       "      <td>0</td>\n",
       "      <td>1</td>\n",
       "      <td>h</td>\n",
       "      <td>2016-06-01</td>\n",
       "      <td>18:12</td>\n",
       "      <td>0</td>\n",
       "      <td>NaN</td>\n",
       "      <td>기타 미용업</td>\n",
       "      <td>857.142857</td>\n",
       "    </tr>\n",
       "    <tr>\n",
       "      <th>2</th>\n",
       "      <td>0</td>\n",
       "      <td>2</td>\n",
       "      <td>c</td>\n",
       "      <td>2016-06-01</td>\n",
       "      <td>18:52</td>\n",
       "      <td>0</td>\n",
       "      <td>NaN</td>\n",
       "      <td>기타 미용업</td>\n",
       "      <td>2000.000000</td>\n",
       "    </tr>\n",
       "    <tr>\n",
       "      <th>3</th>\n",
       "      <td>0</td>\n",
       "      <td>3</td>\n",
       "      <td>a</td>\n",
       "      <td>2016-06-01</td>\n",
       "      <td>20:22</td>\n",
       "      <td>0</td>\n",
       "      <td>NaN</td>\n",
       "      <td>기타 미용업</td>\n",
       "      <td>7857.142857</td>\n",
       "    </tr>\n",
       "    <tr>\n",
       "      <th>4</th>\n",
       "      <td>0</td>\n",
       "      <td>4</td>\n",
       "      <td>c</td>\n",
       "      <td>2016-06-02</td>\n",
       "      <td>11:06</td>\n",
       "      <td>0</td>\n",
       "      <td>NaN</td>\n",
       "      <td>기타 미용업</td>\n",
       "      <td>2000.000000</td>\n",
       "    </tr>\n",
       "  </tbody>\n",
       "</table>\n",
       "</div>"
      ],
      "text/plain": [
       "   store_id  card_id card_company transacted_date transacted_time  \\\n",
       "0         0        0            b      2016-06-01           13:13   \n",
       "1         0        1            h      2016-06-01           18:12   \n",
       "2         0        2            c      2016-06-01           18:52   \n",
       "3         0        3            a      2016-06-01           20:22   \n",
       "4         0        4            c      2016-06-02           11:06   \n",
       "\n",
       "   installment_term region type_of_business       amount  \n",
       "0                 0    NaN           기타 미용업  1857.142857  \n",
       "1                 0    NaN           기타 미용업   857.142857  \n",
       "2                 0    NaN           기타 미용업  2000.000000  \n",
       "3                 0    NaN           기타 미용업  7857.142857  \n",
       "4                 0    NaN           기타 미용업  2000.000000  "
      ]
     },
     "execution_count": 16,
     "metadata": {},
     "output_type": "execute_result"
    }
   ],
   "source": [
    "pd.set_option('display.max_columns', None)\n",
    "df = pd.read_csv(\"data/funda_train.csv\")\n",
    "df.head()"
   ]
  },
  {
   "cell_type": "markdown",
   "metadata": {},
   "source": [
    "## Step 2. 데이터셋 분석"
   ]
  },
  {
   "cell_type": "code",
   "execution_count": 18,
   "metadata": {},
   "outputs": [
    {
     "data": {
      "image/png": "[encoded data removed]",
      "text/plain": [
       "<Figure size 936x288 with 1 Axes>"
      ]
     },
     "metadata": {
      "needs_background": "light"
     },
     "output_type": "display_data"
    }
   ],
   "source": [
    "plt.figure(figsize=(13, 4))\n",
    "plt.bar(df.columns, df.isnull().sum())\n",
    "plt.xticks(rotation=45) # rotation: 레이블 텍스트 회전\n",
    "plt.show()"
   ]
  },
  {
   "cell_type": "code",
   "execution_count": 19,
   "metadata": {},
   "outputs": [
    {
     "data": {
      "text/html": [
       "<div>\n",
       "<style scoped>\n",
       "    .dataframe tbody tr th:only-of-type {\n",
       "        vertical-align: middle;\n",
       "    }\n",
       "\n",
       "    .dataframe tbody tr th {\n",
       "        vertical-align: top;\n",
       "    }\n",
       "\n",
       "    .dataframe thead th {\n",
       "        text-align: right;\n",
       "    }\n",
       "</style>\n",
       "<table border=\"1\" class=\"dataframe\">\n",
       "  <thead>\n",
       "    <tr style=\"text-align: right;\">\n",
       "      <th></th>\n",
       "      <th>store_id</th>\n",
       "      <th>card_id</th>\n",
       "      <th>card_company</th>\n",
       "      <th>transacted_date</th>\n",
       "      <th>transacted_time</th>\n",
       "      <th>installment_term</th>\n",
       "      <th>amount</th>\n",
       "    </tr>\n",
       "  </thead>\n",
       "  <tbody>\n",
       "    <tr>\n",
       "      <th>0</th>\n",
       "      <td>0</td>\n",
       "      <td>0</td>\n",
       "      <td>b</td>\n",
       "      <td>2016-06-01</td>\n",
       "      <td>13:13</td>\n",
       "      <td>0</td>\n",
       "      <td>1857.142857</td>\n",
       "    </tr>\n",
       "    <tr>\n",
       "      <th>1</th>\n",
       "      <td>0</td>\n",
       "      <td>1</td>\n",
       "      <td>h</td>\n",
       "      <td>2016-06-01</td>\n",
       "      <td>18:12</td>\n",
       "      <td>0</td>\n",
       "      <td>857.142857</td>\n",
       "    </tr>\n",
       "    <tr>\n",
       "      <th>2</th>\n",
       "      <td>0</td>\n",
       "      <td>2</td>\n",
       "      <td>c</td>\n",
       "      <td>2016-06-01</td>\n",
       "      <td>18:52</td>\n",
       "      <td>0</td>\n",
       "      <td>2000.000000</td>\n",
       "    </tr>\n",
       "    <tr>\n",
       "      <th>3</th>\n",
       "      <td>0</td>\n",
       "      <td>3</td>\n",
       "      <td>a</td>\n",
       "      <td>2016-06-01</td>\n",
       "      <td>20:22</td>\n",
       "      <td>0</td>\n",
       "      <td>7857.142857</td>\n",
       "    </tr>\n",
       "    <tr>\n",
       "      <th>4</th>\n",
       "      <td>0</td>\n",
       "      <td>4</td>\n",
       "      <td>c</td>\n",
       "      <td>2016-06-02</td>\n",
       "      <td>11:06</td>\n",
       "      <td>0</td>\n",
       "      <td>2000.000000</td>\n",
       "    </tr>\n",
       "  </tbody>\n",
       "</table>\n",
       "</div>"
      ],
      "text/plain": [
       "   store_id  card_id card_company transacted_date transacted_time  \\\n",
       "0         0        0            b      2016-06-01           13:13   \n",
       "1         0        1            h      2016-06-01           18:12   \n",
       "2         0        2            c      2016-06-01           18:52   \n",
       "3         0        3            a      2016-06-01           20:22   \n",
       "4         0        4            c      2016-06-02           11:06   \n",
       "\n",
       "   installment_term       amount  \n",
       "0                 0  1857.142857  \n",
       "1                 0   857.142857  \n",
       "2                 0  2000.000000  \n",
       "3                 0  7857.142857  \n",
       "4                 0  2000.000000  "
      ]
     },
     "execution_count": 19,
     "metadata": {},
     "output_type": "execute_result"
    }
   ],
   "source": [
    "df = df.drop(['region','type_of_business'],axis=1)\n",
    "df.head()"
   ]
  },
  {
   "cell_type": "code",
   "execution_count": 21,
   "metadata": {},
   "outputs": [
    {
     "data": {
      "text/html": [
       "<div>\n",
       "<style scoped>\n",
       "    .dataframe tbody tr th:only-of-type {\n",
       "        vertical-align: middle;\n",
       "    }\n",
       "\n",
       "    .dataframe tbody tr th {\n",
       "        vertical-align: top;\n",
       "    }\n",
       "\n",
       "    .dataframe thead th {\n",
       "        text-align: right;\n",
       "    }\n",
       "</style>\n",
       "<table border=\"1\" class=\"dataframe\">\n",
       "  <thead>\n",
       "    <tr style=\"text-align: right;\">\n",
       "      <th></th>\n",
       "      <th>store_id</th>\n",
       "      <th>card_id</th>\n",
       "      <th>card_company</th>\n",
       "      <th>transacted_date</th>\n",
       "      <th>transacted_time</th>\n",
       "      <th>installment_term</th>\n",
       "      <th>amount</th>\n",
       "    </tr>\n",
       "  </thead>\n",
       "  <tbody>\n",
       "    <tr>\n",
       "      <th>41</th>\n",
       "      <td>0</td>\n",
       "      <td>40</td>\n",
       "      <td>a</td>\n",
       "      <td>2016-06-10</td>\n",
       "      <td>17:26</td>\n",
       "      <td>2</td>\n",
       "      <td>-8571.428571</td>\n",
       "    </tr>\n",
       "    <tr>\n",
       "      <th>347</th>\n",
       "      <td>0</td>\n",
       "      <td>285</td>\n",
       "      <td>a</td>\n",
       "      <td>2016-08-04</td>\n",
       "      <td>17:52</td>\n",
       "      <td>0</td>\n",
       "      <td>-1857.142857</td>\n",
       "    </tr>\n",
       "    <tr>\n",
       "      <th>731</th>\n",
       "      <td>0</td>\n",
       "      <td>473</td>\n",
       "      <td>g</td>\n",
       "      <td>2016-10-17</td>\n",
       "      <td>10:32</td>\n",
       "      <td>0</td>\n",
       "      <td>-2000.000000</td>\n",
       "    </tr>\n",
       "    <tr>\n",
       "      <th>831</th>\n",
       "      <td>0</td>\n",
       "      <td>230</td>\n",
       "      <td>b</td>\n",
       "      <td>2016-11-03</td>\n",
       "      <td>15:36</td>\n",
       "      <td>0</td>\n",
       "      <td>-85.714286</td>\n",
       "    </tr>\n",
       "    <tr>\n",
       "      <th>944</th>\n",
       "      <td>0</td>\n",
       "      <td>138</td>\n",
       "      <td>a</td>\n",
       "      <td>2016-11-28</td>\n",
       "      <td>13:21</td>\n",
       "      <td>0</td>\n",
       "      <td>-57.142857</td>\n",
       "    </tr>\n",
       "    <tr>\n",
       "      <th>...</th>\n",
       "      <td>...</td>\n",
       "      <td>...</td>\n",
       "      <td>...</td>\n",
       "      <td>...</td>\n",
       "      <td>...</td>\n",
       "      <td>...</td>\n",
       "      <td>...</td>\n",
       "    </tr>\n",
       "    <tr>\n",
       "      <th>6556242</th>\n",
       "      <td>2136</td>\n",
       "      <td>4663626</td>\n",
       "      <td>b</td>\n",
       "      <td>2019-02-01</td>\n",
       "      <td>21:19</td>\n",
       "      <td>0</td>\n",
       "      <td>-13428.571429</td>\n",
       "    </tr>\n",
       "    <tr>\n",
       "      <th>6556448</th>\n",
       "      <td>2136</td>\n",
       "      <td>4663760</td>\n",
       "      <td>d</td>\n",
       "      <td>2019-02-15</td>\n",
       "      <td>00:46</td>\n",
       "      <td>0</td>\n",
       "      <td>-6928.571429</td>\n",
       "    </tr>\n",
       "    <tr>\n",
       "      <th>6556485</th>\n",
       "      <td>2136</td>\n",
       "      <td>4663779</td>\n",
       "      <td>b</td>\n",
       "      <td>2019-02-18</td>\n",
       "      <td>02:45</td>\n",
       "      <td>0</td>\n",
       "      <td>-5571.428571</td>\n",
       "    </tr>\n",
       "    <tr>\n",
       "      <th>6556489</th>\n",
       "      <td>2136</td>\n",
       "      <td>4663780</td>\n",
       "      <td>d</td>\n",
       "      <td>2019-02-18</td>\n",
       "      <td>21:43</td>\n",
       "      <td>0</td>\n",
       "      <td>-8571.428571</td>\n",
       "    </tr>\n",
       "    <tr>\n",
       "      <th>6556608</th>\n",
       "      <td>2136</td>\n",
       "      <td>4663855</td>\n",
       "      <td>d</td>\n",
       "      <td>2019-02-28</td>\n",
       "      <td>23:20</td>\n",
       "      <td>0</td>\n",
       "      <td>-4500.000000</td>\n",
       "    </tr>\n",
       "  </tbody>\n",
       "</table>\n",
       "<p>73100 rows × 7 columns</p>\n",
       "</div>"
      ],
      "text/plain": [
       "         store_id  card_id card_company transacted_date transacted_time  \\\n",
       "41              0       40            a      2016-06-10           17:26   \n",
       "347             0      285            a      2016-08-04           17:52   \n",
       "731             0      473            g      2016-10-17           10:32   \n",
       "831             0      230            b      2016-11-03           15:36   \n",
       "944             0      138            a      2016-11-28           13:21   \n",
       "...           ...      ...          ...             ...             ...   \n",
       "6556242      2136  4663626            b      2019-02-01           21:19   \n",
       "6556448      2136  4663760            d      2019-02-15           00:46   \n",
       "6556485      2136  4663779            b      2019-02-18           02:45   \n",
       "6556489      2136  4663780            d      2019-02-18           21:43   \n",
       "6556608      2136  4663855            d      2019-02-28           23:20   \n",
       "\n",
       "         installment_term        amount  \n",
       "41                      2  -8571.428571  \n",
       "347                     0  -1857.142857  \n",
       "731                     0  -2000.000000  \n",
       "831                     0    -85.714286  \n",
       "944                     0    -57.142857  \n",
       "...                   ...           ...  \n",
       "6556242                 0 -13428.571429  \n",
       "6556448                 0  -6928.571429  \n",
       "6556485                 0  -5571.428571  \n",
       "6556489                 0  -8571.428571  \n",
       "6556608                 0  -4500.000000  \n",
       "\n",
       "[73100 rows x 7 columns]"
      ]
     },
     "execution_count": 21,
     "metadata": {},
     "output_type": "execute_result"
    }
   ],
   "source": [
    "# amount는 거래액\n",
    "df[df['amount'] < 0]"
   ]
  },
  {
   "cell_type": "markdown",
   "metadata": {},
   "source": [
    "## Step 3. 데이터 전처리"
   ]
  },
  {
   "cell_type": "markdown",
   "metadata": {},
   "source": [
    "* 매출액에 음수 값이 보이고, 환불 금액으로 예상됨\n",
    "* 환불을 log정규화했을 때 무한대가 나오기 때문에 제거 하기로 결정\n",
    "* 환불 발생 이전 데이터 중 카드아이디가 같고 환불액의 절대값이 같은 후보 리스트를 찾음\n",
    "* 환불 후보리스트 중 가장 최근시간(max)을 제거\n",
    "* 시계열 모델링을 위해 month 단위로 resampling 진행\n",
    "* 상점 매출이 발생하지 않은 월은 log 정규화시 0이 아닌 최솟값으로 대치하기 위해 2로 대치(log1=0, log2=0.693)\n",
    "* resampling시 영업 시작 전 데이터는 제거하고 시작일부터 데이터를 유지시킴"
   ]
  },
  {
   "cell_type": "code",
   "execution_count": 23,
   "metadata": {},
   "outputs": [
    {
     "data": {
      "image/png": "[encoded data removed]",
      "text/plain": [
       "<Figure size 576x288 with 1 Axes>"
      ]
     },
     "metadata": {
      "needs_background": "light"
     },
     "output_type": "display_data"
    }
   ],
   "source": [
    "plt.figure(figsize=(8, 4))\n",
    "sns.boxplot(df[\"amount\"])\n",
    "plt.show()"
   ]
  },
  {
   "cell_type": "code",
   "execution_count": 25,
   "metadata": {},
   "outputs": [],
   "source": [
    "df['datetime'] = pd.to_datetime(df.transacted_date+\" \"+\\\n",
    "                 df.transacted_time, format='%Y-%m-%d %H:%M:%S')"
   ]
  },
  {
   "cell_type": "code",
   "execution_count": 27,
   "metadata": {},
   "outputs": [
    {
     "name": "stdout",
     "output_type": "stream",
     "text": [
      "<class 'pandas.core.frame.DataFrame'>\n",
      "RangeIndex: 6556613 entries, 0 to 6556612\n",
      "Data columns (total 8 columns):\n",
      " #   Column            Dtype         \n",
      "---  ------            -----         \n",
      " 0   store_id          int64         \n",
      " 1   card_id           int64         \n",
      " 2   card_company      object        \n",
      " 3   transacted_date   object        \n",
      " 4   transacted_time   object        \n",
      " 5   installment_term  int64         \n",
      " 6   amount            float64       \n",
      " 7   datetime          datetime64[ns]\n",
      "dtypes: datetime64[ns](1), float64(1), int64(3), object(3)\n",
      "memory usage: 400.2+ MB\n"
     ]
    }
   ],
   "source": [
    "df.info()"
   ]
  },
  {
   "cell_type": "code",
   "execution_count": 29,
   "metadata": {},
   "outputs": [],
   "source": [
    "refund = df[df['amount'] < 0]\n",
    "non_refund =df[df['amount'] > 0]\n"
   ]
  },
  {
   "cell_type": "code",
   "execution_count": null,
   "metadata": {},
   "outputs": [],
   "source": [
    "for i in tqdm(df.store_id.unique()):\n",
    "    "
   ]
  },
  {
   "cell_type": "code",
   "execution_count": null,
   "metadata": {},
   "outputs": [],
   "source": [
    "non_refund"
   ]
  }
 ],
 "metadata": {
  "kernelspec": {
   "display_name": "Python 3.9.12 ('boost')",
   "language": "python",
   "name": "python3"
  },
  "language_info": {
   "codemirror_mode": {
    "name": "ipython",
    "version": 3
   },
   "file_extension": ".py",
   "mimetype": "text/x-python",
   "name": "python",
   "nbconvert_exporter": "python",
   "pygments_lexer": "ipython3",
   "version": "3.9.12"
  },
  "orig_nbformat": 4,
  "vscode": {
   "interpreter": {
    "hash": "a2d8127a3b7fe563b278cfab245d7f5be4982e827e9750b085e647417aee25d4"
   }
  }
 },
 "nbformat": 4,
 "nbformat_minor": 2
}
